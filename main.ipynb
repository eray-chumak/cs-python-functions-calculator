{
 "cells": [
  {
   "cell_type": "markdown",
   "metadata": {},
   "source": [
    "## A simple calculator using functions\n",
    "\n",
    "1) Read code and discuss - ask questions!\n",
    "\n",
    "2) Comment code\n",
    "\n",
    "3) Extend the calculator with 5 more functions\n"
   ]
  },
  {
   "cell_type": "code",
   "execution_count": null,
   "metadata": {},
   "outputs": [],
   "source": [
    "# imports\n",
    "import math\n",
    "\n",
    "# calculator current options.\n",
    "options = [\"Area of Circle\", \"Area of Trapezium\", \"Area of Triangle\", \"Area of Square\", \"Area of Cylinder\"]\n",
    "continue_req = True\n",
    "\n",
    "# calculator functions.\n",
    "circle_area = lambda r, unit : print(f\"\\n3.14 * ({r} ^ 2) = {3.14 * (r ** 2)} {unit} ^ 2\\n\")\n",
    "trapezium_area = lambda  a, b, h, unit : print(f\"\\n{h}({a} + {b} / 2) = {h * ((a + b) / 2)} {unit} ^ 2\\n\")\n",
    "triangle_area = lambda b, h, unit : print(f\"\\n{b} * {h} / 2 = {(b * h) / 2}\\n\")\n",
    "square_area = lambda w, l, unit : print(f\"\\n{l} * {w} = {l * w} {unit} ^ 2\\n\")\n",
    "cyl_area = lambda  r, l, unit : print(f\"\\n3.14 * ({r} ^ 2) * {l} = {3.14 * (r ** 2) * l} {unit} ^ 2\\n\")\n",
    "\n",
    "# processes user option choice.\n",
    "def handle_option(option):\n",
    "    if (option == 1): circle_area(req_input(\"\\nRADIUS: \", float), req_input(\"UNIT: \", str))\n",
    "    if (option == 2): trapezium_area(req_input(\"\\nA: \", float), req_input(\"B: \", float), req_input(\"HEIGHT: \", float), req_input(\"UNIT: \", str))\n",
    "    if (option == 3): triangle_area(req_input(\"\\nBASE: \", float), req_input(\"HEIGHT: \", float), req_input(\"UNIT: \", str))\n",
    "    if (option == 4): square_area(req_input(\"\\nLENGTH: \", float), req_input(\"WIDTH: \", float), req_input(\"UNIT: \", str))\n",
    "    if (option == 5): cyl_area(req_input(\"\\nRADIUS: \", float), req_input(\"LENGTH: \", float), req_input(\"UNIT: \", str))\n",
    "    req_continue()\n",
    "\n",
    "# displays calculator options.\n",
    "def show_options():\n",
    "    for index, option in enumerate(options, 1):\n",
    "        print(f\"[{index}] {option}\")\n",
    "\n",
    "def req_continue():\n",
    "    if (req_input(\"CONTINUE? \", bool)):\n",
    "        continue_req = True\n",
    "    else:\n",
    "        continue_req = False\n",
    "\n",
    "# handles user input.\n",
    "def req_input(content, type):\n",
    "    if (type == str):\n",
    "        return input(content)\n",
    "    if (type == float):\n",
    "        try:\n",
    "            return float(input(content))\n",
    "        except ValueError as error:\n",
    "            print(error)\n",
    "            req_input(content, type)\n",
    "    if (type == bool):\n",
    "        try:\n",
    "            return bool(input(content))\n",
    "        except ValueError as error:\n",
    "            print(error)\n",
    "            req_input(content, type)\n",
    "\n",
    "def run_calc():\n",
    "    show_options()\n",
    "    handle_option(req_input(\"\\nOPTION: \", float))\n",
    "\n",
    "while continue_req:\n",
    "    run_calc()\n",
    "print(\"FINISH.\")"
   ]
  }
 ],
 "metadata": {
  "kernelspec": {
   "display_name": "Python 3",
   "language": "python",
   "name": "python3"
  },
  "language_info": {
   "codemirror_mode": {
    "name": "ipython",
    "version": 3
   },
   "file_extension": ".py",
   "mimetype": "text/x-python",
   "name": "python",
   "nbconvert_exporter": "python",
   "pygments_lexer": "ipython3",
   "version": "3.6.5"
  }
 },
 "nbformat": 4,
 "nbformat_minor": 2
}
